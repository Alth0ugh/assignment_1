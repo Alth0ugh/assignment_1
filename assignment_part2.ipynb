{
 "cells": [
  {
   "cell_type": "code",
   "execution_count": 1,
   "metadata": {},
   "outputs": [],
   "source": [
    "from dataset import Dataset\n",
    "from entropy import Entropy\n",
    "from probability import *\n",
    "from word_counter import WordCounter\n",
    "from scrambler import *\n",
    "from tqdm.notebook import tqdm\n",
    "import numpy as np\n",
    "import matplotlib.pyplot as plt\n",
    "from n_gram import NGramModel\n",
    "import pandas\n",
    "from IPython.display import Latex"
   ]
  },
  {
   "cell_type": "code",
   "execution_count": 2,
   "metadata": {},
   "outputs": [],
   "source": [
    "def get_vocabulary(dataset: Dataset) -> list:\n",
    "        vocabulary = set()\n",
    "        for word in dataset:\n",
    "            vocabulary.add(word)\n",
    "\n",
    "        return list(vocabulary)"
   ]
  },
  {
   "cell_type": "code",
   "execution_count": 3,
   "metadata": {},
   "outputs": [],
   "source": [
    "def display_coefficients(model: NGramModel):\n",
    "    for i in range(len(model.lambdas)):\n",
    "        display(Latex(fr\"$\\lambda_{i} = {model.lambdas[i]}$\"))"
   ]
  },
  {
   "cell_type": "code",
   "execution_count": 4,
   "metadata": {},
   "outputs": [],
   "source": [
    "TEXT_FILE1 = \"TEXTEN1.txt\"\n",
    "TEXT_FILE2 = \"TEXTCZ1.txt\"\n",
    "\n",
    "dataset1 = Dataset()\n",
    "dataset1.from_file(TEXT_FILE1, 0)\n",
    "\n",
    "dataset2 = Dataset()\n",
    "dataset2.from_file(TEXT_FILE2, 0)"
   ]
  },
  {
   "cell_type": "code",
   "execution_count": 5,
   "metadata": {},
   "outputs": [],
   "source": [
    "dataset1_train = Dataset()\n",
    "dataset2_train = Dataset()\n",
    "\n",
    "dataset1_heldout = Dataset()\n",
    "dataset2_heldout = Dataset()\n",
    "\n",
    "dataset1_test = Dataset()\n",
    "dataset2_test = Dataset()\n",
    "\n",
    "dataset1_train.from_list(dataset1[:len(dataset1) - 60_000], 2)\n",
    "dataset2_train.from_list(dataset2[:len(dataset2) - 60_000], 2)\n",
    "\n",
    "dataset1_heldout.from_list(dataset1[len(dataset1) - 60_000: len(dataset1) - 20_000], 2)\n",
    "dataset2_heldout.from_list(dataset2[len(dataset2) - 60_000: len(dataset2) - 20_000], 2)\n",
    "\n",
    "dataset1_test.from_list(dataset1[-20_000:], 2)\n",
    "dataset2_test.from_list(dataset2[-20_000:], 2)\n",
    "\n",
    "tmp_dataset1 = Dataset()\n",
    "tmp_dataset2 = Dataset()\n",
    "\n",
    "tmp_dataset1.from_list(dataset1[:len(dataset1) - 20_000]) # train + heldout\n",
    "tmp_dataset2.from_list(dataset2[:len(dataset2) - 20_000]) # train + heldout\n",
    "\n",
    "vocabulary1 = get_vocabulary(tmp_dataset1)\n",
    "vocabulary2 = get_vocabulary(tmp_dataset2)"
   ]
  },
  {
   "cell_type": "markdown",
   "metadata": {},
   "source": [
    "# Train the model on train data and compute the coefficients on train data"
   ]
  },
  {
   "cell_type": "code",
   "execution_count": 6,
   "metadata": {},
   "outputs": [],
   "source": [
    "model1 = NGramModel(3)\n",
    "model2 = NGramModel(3)"
   ]
  },
  {
   "cell_type": "code",
   "execution_count": 7,
   "metadata": {},
   "outputs": [
    {
     "name": "stdout",
     "output_type": "stream",
     "text": [
      "Training iteration 0\n",
      "Training iteration 1\n",
      "Training iteration 2\n",
      "Training iteration 3\n",
      "Training iteration 4\n",
      "Training iteration 5\n",
      "Training iteration 6\n",
      "Training iteration 7\n",
      "Training iteration 8\n",
      "Training iteration 9\n",
      "Training iteration 10\n",
      "Training iteration 11\n",
      "Training iteration 0\n",
      "Training iteration 1\n",
      "Training iteration 2\n",
      "Training iteration 3\n",
      "Training iteration 4\n",
      "Training iteration 5\n",
      "Training iteration 6\n",
      "Training iteration 7\n",
      "Training iteration 8\n",
      "Training iteration 9\n",
      "Training iteration 10\n",
      "Training iteration 11\n"
     ]
    }
   ],
   "source": [
    "model1.fit(dataset1_train, dataset1_train, vocabulary1, 0.00001)\n",
    "model2.fit(dataset2_train, dataset2_train, vocabulary2, 0.00001)"
   ]
  },
  {
   "cell_type": "code",
   "execution_count": 8,
   "metadata": {},
   "outputs": [
    {
     "name": "stdout",
     "output_type": "stream",
     "text": [
      "The model coefficients for TEXTEN1.txt are:\n"
     ]
    },
    {
     "data": {
      "text/latex": [
       "$\\lambda_0 = 8.442053932437188e-30$"
      ],
      "text/plain": [
       "<IPython.core.display.Latex object>"
      ]
     },
     "metadata": {},
     "output_type": "display_data"
    },
    {
     "data": {
      "text/latex": [
       "$\\lambda_1 = 1.0400046805001556e-14$"
      ],
      "text/plain": [
       "<IPython.core.display.Latex object>"
      ]
     },
     "metadata": {},
     "output_type": "display_data"
    },
    {
     "data": {
      "text/latex": [
       "$\\lambda_2 = 3.0680225181816977e-06$"
      ],
      "text/plain": [
       "<IPython.core.display.Latex object>"
      ]
     },
     "metadata": {},
     "output_type": "display_data"
    },
    {
     "data": {
      "text/latex": [
       "$\\lambda_3 = 0.9999969319774715$"
      ],
      "text/plain": [
       "<IPython.core.display.Latex object>"
      ]
     },
     "metadata": {},
     "output_type": "display_data"
    }
   ],
   "source": [
    "print(f\"The model coefficients for {TEXT_FILE1} are:\")\n",
    "display_coefficients(model1)"
   ]
  },
  {
   "cell_type": "code",
   "execution_count": 9,
   "metadata": {},
   "outputs": [
    {
     "name": "stdout",
     "output_type": "stream",
     "text": [
      "The model coefficients for TEXTCZ1.txt are:\n"
     ]
    },
    {
     "data": {
      "text/latex": [
       "$\\lambda_0 = 3.044981454500412e-43$"
      ],
      "text/plain": [
       "<IPython.core.display.Latex object>"
      ]
     },
     "metadata": {},
     "output_type": "display_data"
    },
    {
     "data": {
      "text/latex": [
       "$\\lambda_1 = 8.223756559316179e-21$"
      ],
      "text/plain": [
       "<IPython.core.display.Latex object>"
      ]
     },
     "metadata": {},
     "output_type": "display_data"
    },
    {
     "data": {
      "text/latex": [
       "$\\lambda_2 = 3.1725743782450754e-06$"
      ],
      "text/plain": [
       "<IPython.core.display.Latex object>"
      ]
     },
     "metadata": {},
     "output_type": "display_data"
    },
    {
     "data": {
      "text/latex": [
       "$\\lambda_3 = 0.9999968274256217$"
      ],
      "text/plain": [
       "<IPython.core.display.Latex object>"
      ]
     },
     "metadata": {},
     "output_type": "display_data"
    }
   ],
   "source": [
    "print(f\"The model coefficients for {TEXT_FILE2} are:\")\n",
    "display_coefficients(model2)"
   ]
  },
  {
   "cell_type": "markdown",
   "metadata": {
    "vscode": {
     "languageId": "latex"
    }
   },
   "source": [
    "In both models the value of lambda_3 is close to 1 because when we compute the conditional probabilities on train data and compute the lambdas\n",
    "on train data as well, the algorithm is going to prefer the conditional probability of trigrams because they are the most accurate on the\n",
    "training dataset. Therefore, we need to train the lambdas on heldout data."
   ]
  },
  {
   "cell_type": "markdown",
   "metadata": {},
   "source": [
    "# Train the model on train data and compute the coefficients on held out data"
   ]
  },
  {
   "cell_type": "code",
   "execution_count": 10,
   "metadata": {},
   "outputs": [],
   "source": [
    "model1 = NGramModel(3)\n",
    "model2 = NGramModel(3)"
   ]
  },
  {
   "cell_type": "code",
   "execution_count": 11,
   "metadata": {},
   "outputs": [
    {
     "name": "stdout",
     "output_type": "stream",
     "text": [
      "Training iteration 0\n",
      "Training iteration 1\n",
      "Training iteration 2\n",
      "Training iteration 3\n",
      "Training iteration 4\n",
      "Training iteration 5\n",
      "Training iteration 6\n",
      "Training iteration 7\n",
      "Training iteration 8\n",
      "Training iteration 9\n",
      "Training iteration 10\n",
      "Training iteration 11\n",
      "Training iteration 12\n",
      "Training iteration 13\n",
      "Training iteration 14\n",
      "Training iteration 15\n",
      "Training iteration 0\n",
      "Training iteration 1\n",
      "Training iteration 2\n",
      "Training iteration 3\n",
      "Training iteration 4\n",
      "Training iteration 5\n",
      "Training iteration 6\n",
      "Training iteration 7\n",
      "Training iteration 8\n",
      "Training iteration 9\n",
      "Training iteration 10\n",
      "Training iteration 11\n",
      "Training iteration 12\n",
      "Training iteration 13\n",
      "Training iteration 14\n",
      "Training iteration 15\n",
      "Training iteration 16\n",
      "Training iteration 17\n"
     ]
    }
   ],
   "source": [
    "model1.fit(dataset1_train, dataset1_heldout, vocabulary1, 0.00001)\n",
    "model2.fit(dataset2_train, dataset2_heldout, vocabulary2, 0.00001)"
   ]
  },
  {
   "cell_type": "code",
   "execution_count": 12,
   "metadata": {},
   "outputs": [
    {
     "data": {
      "text/html": [
       "<div>\n",
       "<style scoped>\n",
       "    .dataframe tbody tr th:only-of-type {\n",
       "        vertical-align: middle;\n",
       "    }\n",
       "\n",
       "    .dataframe tbody tr th {\n",
       "        vertical-align: top;\n",
       "    }\n",
       "\n",
       "    .dataframe thead th {\n",
       "        text-align: right;\n",
       "    }\n",
       "</style>\n",
       "<table border=\"1\" class=\"dataframe\">\n",
       "  <thead>\n",
       "    <tr style=\"text-align: right;\">\n",
       "      <th></th>\n",
       "      <th>TEXTEN1.txt</th>\n",
       "      <th>TEXTCZ1.txt</th>\n",
       "    </tr>\n",
       "  </thead>\n",
       "  <tbody>\n",
       "    <tr>\n",
       "      <th>lambda_0</th>\n",
       "      <td>0.065985</td>\n",
       "      <td>0.132381</td>\n",
       "    </tr>\n",
       "    <tr>\n",
       "      <th>lambda_1</th>\n",
       "      <td>0.259773</td>\n",
       "      <td>0.440412</td>\n",
       "    </tr>\n",
       "    <tr>\n",
       "      <th>lambda_2</th>\n",
       "      <td>0.491912</td>\n",
       "      <td>0.243891</td>\n",
       "    </tr>\n",
       "    <tr>\n",
       "      <th>lambda_3</th>\n",
       "      <td>0.182330</td>\n",
       "      <td>0.183316</td>\n",
       "    </tr>\n",
       "  </tbody>\n",
       "</table>\n",
       "</div>"
      ],
      "text/plain": [
       "          TEXTEN1.txt  TEXTCZ1.txt\n",
       "lambda_0     0.065985     0.132381\n",
       "lambda_1     0.259773     0.440412\n",
       "lambda_2     0.491912     0.243891\n",
       "lambda_3     0.182330     0.183316"
      ]
     },
     "execution_count": 12,
     "metadata": {},
     "output_type": "execute_result"
    }
   ],
   "source": [
    "pandas.DataFrame(np.array([model1.lambdas, model2.lambdas]).T, index=[\"lambda_0\", \"lambda_1\", \"lambda_2\", \"lambda_3\"], columns=[TEXT_FILE1, TEXT_FILE2])"
   ]
  },
  {
   "cell_type": "markdown",
   "metadata": {},
   "source": [
    "The coefficients after training on heldout data seem to prefer bigrams for TEXTEN1.txt and unigrams for TEXTCZ1.txt From the dataset analysis we know, that the vocabulary of the Czech text is much greater than the vocabulary of English text. At the same time, the proportion of words that appear in the text only once is much greater for the Czech text than the English text. Therefore, these words will be modelled by unigram model and that is the reason why it is being favoured in the Czech model. On the other hand, as the vocabulary for English text is smaller and there is smaller proportion of words that have low frequence a bigram model is favoured because it focuses more on the context."
   ]
  },
  {
   "cell_type": "markdown",
   "metadata": {},
   "source": [
    "# Coverage graph"
   ]
  },
  {
   "cell_type": "code",
   "execution_count": 13,
   "metadata": {},
   "outputs": [],
   "source": [
    "dataset1_test_vocabulary = get_vocabulary(dataset1_test)\n",
    "dataset1_train_vocabulary = get_vocabulary(dataset1_train)\n",
    "\n",
    "dataset2_test_vocabulary = get_vocabulary(dataset2_test)\n",
    "dataset2_train_vocabulary = get_vocabulary(dataset2_train)"
   ]
  },
  {
   "cell_type": "code",
   "execution_count": 14,
   "metadata": {},
   "outputs": [],
   "source": [
    "dataset1_word_present_sum = 0\n",
    "for word in dataset1_test_vocabulary:\n",
    "    if word in dataset1_train_vocabulary:\n",
    "        dataset1_word_present_sum += 1\n",
    "\n",
    "dataset2_word_present_sum = 0\n",
    "for word in dataset2_test_vocabulary:\n",
    "    if word in dataset2_train_vocabulary:\n",
    "        dataset2_word_present_sum += 1"
   ]
  },
  {
   "cell_type": "code",
   "execution_count": 15,
   "metadata": {},
   "outputs": [
    {
     "data": {
      "text/html": [
       "<div>\n",
       "<style scoped>\n",
       "    .dataframe tbody tr th:only-of-type {\n",
       "        vertical-align: middle;\n",
       "    }\n",
       "\n",
       "    .dataframe tbody tr th {\n",
       "        vertical-align: top;\n",
       "    }\n",
       "\n",
       "    .dataframe thead th {\n",
       "        text-align: right;\n",
       "    }\n",
       "</style>\n",
       "<table border=\"1\" class=\"dataframe\">\n",
       "  <thead>\n",
       "    <tr style=\"text-align: right;\">\n",
       "      <th></th>\n",
       "      <th>Coverage of test vocabulary in train vocabulary</th>\n",
       "    </tr>\n",
       "  </thead>\n",
       "  <tbody>\n",
       "    <tr>\n",
       "      <th>TEXTEN1.txt</th>\n",
       "      <td>0.296645</td>\n",
       "    </tr>\n",
       "    <tr>\n",
       "      <th>TEXTCZ1.txt</th>\n",
       "      <td>0.131741</td>\n",
       "    </tr>\n",
       "  </tbody>\n",
       "</table>\n",
       "</div>"
      ],
      "text/plain": [
       "             Coverage of test vocabulary in train vocabulary\n",
       "TEXTEN1.txt                                         0.296645\n",
       "TEXTCZ1.txt                                         0.131741"
      ]
     },
     "execution_count": 15,
     "metadata": {},
     "output_type": "execute_result"
    }
   ],
   "source": [
    "pandas.DataFrame([dataset1_word_present_sum / len(dataset1_train_vocabulary), dataset2_word_present_sum / len(dataset2_train_vocabulary)], index=[TEXT_FILE1, TEXT_FILE2], columns=[\"Coverage of test vocabulary in train vocabulary\"])"
   ]
  },
  {
   "cell_type": "markdown",
   "metadata": {},
   "source": [
    "# Compute cross entropy of the test data"
   ]
  },
  {
   "cell_type": "code",
   "execution_count": 16,
   "metadata": {},
   "outputs": [
    {
     "data": {
      "text/html": [
       "<div>\n",
       "<style scoped>\n",
       "    .dataframe tbody tr th:only-of-type {\n",
       "        vertical-align: middle;\n",
       "    }\n",
       "\n",
       "    .dataframe tbody tr th {\n",
       "        vertical-align: top;\n",
       "    }\n",
       "\n",
       "    .dataframe thead th {\n",
       "        text-align: right;\n",
       "    }\n",
       "</style>\n",
       "<table border=\"1\" class=\"dataframe\">\n",
       "  <thead>\n",
       "    <tr style=\"text-align: right;\">\n",
       "      <th></th>\n",
       "      <th>entropy</th>\n",
       "    </tr>\n",
       "  </thead>\n",
       "  <tbody>\n",
       "    <tr>\n",
       "      <th>TEXTEN1.txt</th>\n",
       "      <td>10.138901</td>\n",
       "    </tr>\n",
       "    <tr>\n",
       "      <th>TEXTCZ1.txt</th>\n",
       "      <td>11.841228</td>\n",
       "    </tr>\n",
       "  </tbody>\n",
       "</table>\n",
       "</div>"
      ],
      "text/plain": [
       "               entropy\n",
       "TEXTEN1.txt  10.138901\n",
       "TEXTCZ1.txt  11.841228"
      ]
     },
     "execution_count": 16,
     "metadata": {},
     "output_type": "execute_result"
    }
   ],
   "source": [
    "pandas.DataFrame([Entropy.compute_entropy(model1, dataset1_test), Entropy.compute_entropy(model2, dataset2_test)], index=[TEXT_FILE1, TEXT_FILE2], columns=[\"entropy\"])"
   ]
  },
  {
   "cell_type": "markdown",
   "metadata": {},
   "source": [
    "We observe higher entropy on TEXTCZ1.txt file which makes sense because the data is much more diverse than the English data file and therefore it is harder to model. Also, more of the training vocabulary is in the test set for English but for Czech there is significantly less test vocabulary in train vocabulary."
   ]
  },
  {
   "cell_type": "markdown",
   "metadata": {},
   "source": [
    "# Increasing the trigram coefficient"
   ]
  },
  {
   "cell_type": "code",
   "execution_count": 17,
   "metadata": {},
   "outputs": [],
   "source": [
    "initial_lambdas1 = model1.lambdas[:]\n",
    "initial_lambdas2 = model2.lambdas[:]"
   ]
  },
  {
   "cell_type": "code",
   "execution_count": 18,
   "metadata": {},
   "outputs": [],
   "source": [
    "proportions = [0.1, 0.2, 0.3, 0.4, 0.5, 0.6, 0.7, 0.8, 0.9, 0.95, 0.99]\n",
    "results1 = [Entropy.compute_entropy(model1, dataset1_test)]\n",
    "results2 = [Entropy.compute_entropy(model2, dataset2_test)]\n",
    "for proportion in proportions:\n",
    "    model1.increase_lambda(3, proportion)\n",
    "    model2.increase_lambda(3, proportion)\n",
    "\n",
    "    results1.append(Entropy.compute_entropy(model1, dataset1_test))\n",
    "    results2.append(Entropy.compute_entropy(model2, dataset2_test))\n",
    "\n",
    "    model1.lambdas = initial_lambdas1[:]\n",
    "    model2.lambdas = initial_lambdas2[:]"
   ]
  },
  {
   "cell_type": "code",
   "execution_count": 19,
   "metadata": {},
   "outputs": [
    {
     "data": {
      "text/plain": [
       "<matplotlib.legend.Legend at 0x233e2b959a0>"
      ]
     },
     "execution_count": 19,
     "metadata": {},
     "output_type": "execute_result"
    },
    {
     "data": {
      "image/png": "[encoded data removed]",
      "text/plain": [
       "<Figure size 640x480 with 1 Axes>"
      ]
     },
     "metadata": {},
     "output_type": "display_data"
    }
   ],
   "source": [
    "plt.plot([0] + proportions, results1)\n",
    "plt.plot([0] + proportions, results2)\n",
    "plt.xlabel(\"Increase proportion\")\n",
    "plt.ylabel(\"Entropy\")\n",
    "plt.title(\"Dependency of entropy on increasing trigram interpolation coefficient\")\n",
    "plt.legend([TEXT_FILE1, TEXT_FILE2])"
   ]
  },
  {
   "cell_type": "code",
   "execution_count": 20,
   "metadata": {},
   "outputs": [],
   "source": [
    "proportions = [0.9, 0.8, 0.7, 0.6, 0.5, 0.4, 0.3, 0.2, 0.1, 0.0]\n",
    "results1 = [Entropy.compute_entropy(model1, dataset1_test)]\n",
    "results2 = [Entropy.compute_entropy(model2, dataset2_test)]\n",
    "for proportion in proportions:\n",
    "    model1.decrease_lambda(3, proportion)\n",
    "    model2.decrease_lambda(3, proportion)\n",
    "\n",
    "    results1.append(Entropy.compute_entropy(model1, dataset1_test))\n",
    "    results2.append(Entropy.compute_entropy(model2, dataset2_test))\n",
    "\n",
    "    model1.lambdas = initial_lambdas1[:]\n",
    "    model2.lambdas = initial_lambdas2[:]"
   ]
  },
  {
   "cell_type": "code",
   "execution_count": 21,
   "metadata": {},
   "outputs": [
    {
     "data": {
      "text/plain": [
       "<matplotlib.legend.Legend at 0x233e38fef90>"
      ]
     },
     "execution_count": 21,
     "metadata": {},
     "output_type": "execute_result"
    },
    {
     "data": {
      "image/png": "[encoded data removed]",
      "text/plain": [
       "<Figure size 640x480 with 1 Axes>"
      ]
     },
     "metadata": {},
     "output_type": "display_data"
    }
   ],
   "source": [
    "plt.plot([1.0] + proportions, results1)\n",
    "plt.plot([1.0] + proportions, results2)\n",
    "plt.gca().invert_xaxis()\n",
    "plt.title(\"Dependency of entropy on decreasing trigram interpolation coefficient\")\n",
    "plt.legend([TEXT_FILE1, TEXT_FILE2])"
   ]
  },
  {
   "cell_type": "markdown",
   "metadata": {},
   "source": [
    "The entropy increases with increasing the interpolation coefficient in n-gram model because the trigram part of the model has very long history and thus cannot generalize much on the learned data. On the other hand, decreasing the interpolation coefficient for trigram decreases the entropy, because it allows the other more general n-grams to perform the prediction. The entropy of the Czech text is higher than for the English text because there is less overlap between the training and testing vocabulary."
   ]
  }
 ],
 "metadata": {
  "kernelspec": {
   "display_name": "statistical_methods",
   "language": "python",
   "name": "python3"
  },
  "language_info": {
   "codemirror_mode": {
    "name": "ipython",
    "version": 3
   },
   "file_extension": ".py",
   "mimetype": "text/x-python",
   "name": "python",
   "nbconvert_exporter": "python",
   "pygments_lexer": "ipython3",
   "version": "3.12.7"
  }
 },
 "nbformat": 4,
 "nbformat_minor": 2
}
