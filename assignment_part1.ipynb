{
 "cells": [
  {
   "cell_type": "markdown",
   "metadata": {},
   "source": [
    "# Entropy of a text"
   ]
  },
  {
   "cell_type": "code",
   "execution_count": 11,
   "metadata": {},
   "outputs": [],
   "source": [
    "from dataset import Dataset\n",
    "from entropy import Entropy\n",
    "from probability import *\n",
    "from word_counter import WordCounter\n",
    "from scrambler import *\n",
    "from tqdm.notebook import tqdm\n",
    "import numpy as np\n",
    "import matplotlib.pyplot as plt\n",
    "import random\n",
    "import concurrent\n",
    "from IPython.display import display, Markdown\n",
    "import pandas"
   ]
  },
  {
   "cell_type": "code",
   "execution_count": 12,
   "metadata": {},
   "outputs": [],
   "source": [
    "def compute_entropy(dataset: Dataset) -> float:\n",
    "        unigram_counts = WordCounter.count_n_grams(dataset)\n",
    "        bigram_counts = WordCounter.count_n_grams(dataset, 2)\n",
    "\n",
    "        unigram_probabilities = Probability()\n",
    "        bigram_probabilities = Probability()\n",
    "\n",
    "        unigram_probabilities.compute_probability(unigram_counts)\n",
    "        bigram_probabilities.compute_probability(bigram_counts)\n",
    "\n",
    "        conditional_probability = ConditionalProbability()\n",
    "        conditional_probability.compute_conditional_probability(bigram_probabilities, unigram_probabilities)\n",
    "\n",
    "        return Entropy.compute_entropy(conditional_probability, dataset)"
   ]
  },
  {
   "cell_type": "code",
   "execution_count": 13,
   "metadata": {},
   "outputs": [],
   "source": [
    "def get_vocabulary(dataset: Dataset) -> list:\n",
    "        vocabulary = set()\n",
    "        for word in dataset:\n",
    "            vocabulary.add(word)\n",
    "\n",
    "        return list(vocabulary)"
   ]
  },
  {
   "cell_type": "code",
   "execution_count": 14,
   "metadata": {},
   "outputs": [],
   "source": [
    "def get_total_number_of_characters(dataset: Dataset) -> int:\n",
    "    character_sum = 0\n",
    "    for word in dataset:\n",
    "        character_sum += len(word)\n",
    "    return character_sum"
   ]
  },
  {
   "cell_type": "code",
   "execution_count": 15,
   "metadata": {},
   "outputs": [],
   "source": [
    "def get_average_number_of_characters(dataset: Dataset) -> int:\n",
    "    character_sums = []\n",
    "    for word in dataset:\n",
    "        character_sums.append(len(word))\n",
    "\n",
    "    return np.mean(character_sums).item()"
   ]
  },
  {
   "cell_type": "code",
   "execution_count": 16,
   "metadata": {},
   "outputs": [],
   "source": [
    "TEXT_FILE1 = \"TEXTEN1.txt\"\n",
    "TEXT_FILE2 = \"TEXTCZ1.txt\""
   ]
  },
  {
   "cell_type": "code",
   "execution_count": 17,
   "metadata": {},
   "outputs": [],
   "source": [
    "dataset1 = Dataset()\n",
    "dataset1.from_file(TEXT_FILE1)\n",
    "\n",
    "dataset2 = Dataset()\n",
    "dataset2.from_file(TEXT_FILE2)"
   ]
  },
  {
   "cell_type": "code",
   "execution_count": 18,
   "metadata": {},
   "outputs": [
    {
     "data": {
      "text/markdown": [
       "\n",
       "# Conditional entropy\n",
       "| File | Entropy | Perplexity |\n",
       "|----|-----|-----|\n",
       "| TEXTEN1.txt | 5.287434809406375 | 39.054985216602695 |\n",
       "| TEXTCZ1.txt | 4.747786261527468 | 26.867427010393396 |       \n"
      ],
      "text/plain": [
       "<IPython.core.display.Markdown object>"
      ]
     },
     "metadata": {},
     "output_type": "display_data"
    }
   ],
   "source": [
    "text1_entropy = compute_entropy(dataset1)\n",
    "text2_entropy = compute_entropy(dataset2)\n",
    "text1_perplexity = 2 ** text1_entropy\n",
    "text2_perplexity = 2 ** text2_entropy\n",
    "\n",
    "display(Markdown(\"\"\"\n",
    "# Conditional entropy\n",
    "| File | Entropy | Perplexity |\n",
    "|----|-----|-----|\n",
    "| {0} | {1} | {4} |\n",
    "| {2} | {3} | {5} |       \n",
    "\"\"\".format(TEXT_FILE1, text1_entropy, TEXT_FILE2, text2_entropy, text1_perplexity, text2_perplexity)))"
   ]
  },
  {
   "cell_type": "markdown",
   "metadata": {},
   "source": [
    "# Dataset analysis"
   ]
  },
  {
   "cell_type": "code",
   "execution_count": 19,
   "metadata": {},
   "outputs": [
    {
     "data": {
      "text/markdown": [
       "\n",
       "# Conditional entropy\n",
       "| File | Word count | Total number of characters | Average numbers of characters per word | Vocabulary size | Number of words of frequency 1 |\n",
       "|----|-----|-----|-----|-----|-----|\n",
       "| TEXTEN1.txt | 221100 | 972927 | 4.400393487109905 | 9608 | 3811 |\n",
       "| TEXTCZ1.txt | 222414 | 1030641 | 4.633885456850738 | 42827 | 26315 |\n"
      ],
      "text/plain": [
       "<IPython.core.display.Markdown object>"
      ]
     },
     "metadata": {},
     "output_type": "display_data"
    }
   ],
   "source": [
    "text1_word_count = len(dataset1)\n",
    "text2_word_count = len(dataset2)\n",
    "\n",
    "text1_total_number_of_characters = get_total_number_of_characters(dataset1)\n",
    "text2_total_number_of_characters = get_total_number_of_characters(dataset2)\n",
    "\n",
    "text1_avg_number_of_characters = get_average_number_of_characters(dataset1)\n",
    "text2_avg_number_of_characters = get_average_number_of_characters(dataset2)\n",
    "\n",
    "text1_word_counts = WordCounter.count_n_grams(dataset1)\n",
    "text2_word_counts = WordCounter.count_n_grams(dataset2)\n",
    "\n",
    "text1_vocabulary_size = len(get_vocabulary(dataset1))\n",
    "text2_vocabulary_size = len(get_vocabulary(dataset2))\n",
    "\n",
    "text1_least_common_words_count = 0\n",
    "for _, count in text1_word_counts.most_common():\n",
    "    if count == 1:\n",
    "        text1_least_common_words_count += 1\n",
    "\n",
    "text2_least_common_words_count = 0\n",
    "for _, count in text2_word_counts.most_common():\n",
    "    if count == 1:\n",
    "        text2_least_common_words_count += 1\n",
    "\n",
    "display(Markdown(\"\"\"\n",
    "# Conditional entropy\n",
    "| File | Word count | Total number of characters | Average numbers of characters per word | Vocabulary size | Number of words of frequency 1 |\n",
    "|----|-----|-----|-----|-----|-----|\n",
    "| {0} | {2} | {4} | {6} | {8} | {10} |\n",
    "| {1} | {3} | {5} | {7} | {9} | {11} |\n",
    "\"\"\".format(TEXT_FILE1, \n",
    "           TEXT_FILE2,\n",
    "            text1_word_count, \n",
    "            text2_word_count, \n",
    "            text1_total_number_of_characters, \n",
    "            text2_total_number_of_characters,\n",
    "            text1_avg_number_of_characters,\n",
    "            text2_avg_number_of_characters,\n",
    "            text1_vocabulary_size,\n",
    "            text2_vocabulary_size,\n",
    "            text1_least_common_words_count,\n",
    "            text2_least_common_words_count)))"
   ]
  },
  {
   "cell_type": "code",
   "execution_count": 20,
   "metadata": {},
   "outputs": [
    {
     "data": {
      "text/markdown": [
       "\n",
       "# Most common words for TEXTEN1.txt\n",
       "| Word | Count |\n",
       "|----|-----|\n",
       "| , | 14721 |\n",
       "| the | 13299 |\n",
       "| of | 9368 |\n",
       "| . | 5645 |\n",
       "| and | 5537 |\n",
       "| in | 4761 |\n",
       "| to | 4548 |\n",
       "| a | 3132 |\n",
       "| that | 2637 |\n",
       "| ; | 2151 |\n",
       "| have | 2084 |\n",
       "| be | 2072 |\n",
       "| as | 2056 |\n",
       "| is | 2032 |\n",
       "| species | 1779 |\n",
       "| which | 1762 |\n",
       "| by | 1703 |\n",
       "| are | 1621 |\n",
       "| or | 1607 |\n",
       "| for | 1346 |\n"
      ],
      "text/plain": [
       "<IPython.core.display.Markdown object>"
      ]
     },
     "metadata": {},
     "output_type": "display_data"
    }
   ],
   "source": [
    "markdown = \"\"\"\n",
    "# Most common words for {0}\n",
    "| Word | Count |\n",
    "|----|-----|\n",
    "\"\"\".format(TEXT_FILE1)\n",
    "for (word,), count in  text1_word_counts.most_common(20):\n",
    "    markdown += f\"| {word} | {count} |\\n\"\n",
    "\n",
    "display(Markdown(markdown))"
   ]
  },
  {
   "cell_type": "code",
   "execution_count": 21,
   "metadata": {},
   "outputs": [
    {
     "data": {
      "text/markdown": [
       "\n",
       "# Most common words for TEXTCZ1.txt\n",
       "| Word | Count |\n",
       "|----|-----|\n",
       "| , | 13788 |\n",
       "| . | 12931 |\n",
       "| a | 4486 |\n",
       "| v | 4043 |\n",
       "| : | 3434 |\n",
       "| se | 3378 |\n",
       "| na | 2646 |\n",
       "| - | 2549 |\n",
       "| \" | 2506 |\n",
       "| ) | 1761 |\n",
       "| ( | 1748 |\n",
       "| že | 1696 |\n",
       "| je | 1457 |\n",
       "| o | 1431 |\n",
       "| s | 1162 |\n",
       "| z | 1060 |\n",
       "| do | 987 |\n",
       "| i | 985 |\n",
       "| to | 970 |\n",
       "| 1 | 881 |\n"
      ],
      "text/plain": [
       "<IPython.core.display.Markdown object>"
      ]
     },
     "metadata": {},
     "output_type": "display_data"
    }
   ],
   "source": [
    "markdown = \"\"\"\n",
    "# Most common words for {0}\n",
    "| Word | Count |\n",
    "|----|-----|\n",
    "\"\"\".format(TEXT_FILE2)\n",
    "for (word,), count in  text2_word_counts.most_common(20):\n",
    "    markdown += f\"| {word} | {count} |\\n\"\n",
    "\n",
    "display(Markdown(markdown))"
   ]
  },
  {
   "cell_type": "markdown",
   "metadata": {},
   "source": [
    "We can see that in both datasets the most common words are stop words and punctuation. Also, Czech has bigger vocabulary than English and also Czech has higher proportion of words which have frequence of 1 to the whole vocabulary. The Czech dataset also has more words and the words are on average longer than the English ones."
   ]
  },
  {
   "cell_type": "markdown",
   "metadata": {},
   "source": [
    "## Messing up the characters"
   ]
  },
  {
   "cell_type": "code",
   "execution_count": 22,
   "metadata": {},
   "outputs": [],
   "source": [
    "LIKELIHOODS = [0.1, 0.05, 0.01, 0.001, 0.0001, 0.00001]\n",
    "RUNS = 10"
   ]
  },
  {
   "cell_type": "code",
   "execution_count": 23,
   "metadata": {},
   "outputs": [],
   "source": [
    "def character_mess_up(dataset):\n",
    "    results = []\n",
    "    for likelihood in tqdm(LIKELIHOODS, \"Running for different likelihoods\"):\n",
    "        results_for_run = []\n",
    "        for run in tqdm(range(RUNS), \"Running for several times\", leave=False):\n",
    "            random.seed(42)\n",
    "            word_scrambler = WordScrambler(likelihood, dataset)\n",
    "            scrambled_dataset = word_scrambler.scramble_text()\n",
    "            results_for_run.append(compute_entropy(scrambled_dataset))\n",
    "        results.append(results_for_run)\n",
    "    return results"
   ]
  },
  {
   "cell_type": "code",
   "execution_count": 24,
   "metadata": {},
   "outputs": [
    {
     "data": {
      "application/vnd.jupyter.widget-view+json": {
       "model_id": "0c009da025e14a8b850cda788e4fec50",
       "version_major": 2,
       "version_minor": 0
      },
      "text/plain": [
       "Running for different likelihoods:   0%|          | 0/6 [00:00<?, ?it/s]"
      ]
     },
     "metadata": {},
     "output_type": "display_data"
    },
    {
     "data": {
      "application/vnd.jupyter.widget-view+json": {
       "model_id": "ab33f860aa67467e89f3a701c748c5f6",
       "version_major": 2,
       "version_minor": 0
      },
      "text/plain": [
       "Running for different likelihoods:   0%|          | 0/6 [00:00<?, ?it/s]"
      ]
     },
     "metadata": {},
     "output_type": "display_data"
    },
    {
     "data": {
      "application/vnd.jupyter.widget-view+json": {
       "model_id": "c4b482d8c8f941459379036cd0c0313d",
       "version_major": 2,
       "version_minor": 0
      },
      "text/plain": [
       "Running for several times:   0%|          | 0/10 [00:00<?, ?it/s]"
      ]
     },
     "metadata": {},
     "output_type": "display_data"
    },
    {
     "data": {
      "application/vnd.jupyter.widget-view+json": {
       "model_id": "93f402dcf7a14ab08364a4ce94b27deb",
       "version_major": 2,
       "version_minor": 0
      },
      "text/plain": [
       "Running for several times:   0%|          | 0/10 [00:00<?, ?it/s]"
      ]
     },
     "metadata": {},
     "output_type": "display_data"
    },
    {
     "data": {
      "application/vnd.jupyter.widget-view+json": {
       "model_id": "d740dc4a6a22442685d9d5b888b55368",
       "version_major": 2,
       "version_minor": 0
      },
      "text/plain": [
       "Running for several times:   0%|          | 0/10 [00:00<?, ?it/s]"
      ]
     },
     "metadata": {},
     "output_type": "display_data"
    },
    {
     "data": {
      "application/vnd.jupyter.widget-view+json": {
       "model_id": "9ea1d7f9b0e04369a9935547158feb38",
       "version_major": 2,
       "version_minor": 0
      },
      "text/plain": [
       "Running for several times:   0%|          | 0/10 [00:00<?, ?it/s]"
      ]
     },
     "metadata": {},
     "output_type": "display_data"
    },
    {
     "data": {
      "application/vnd.jupyter.widget-view+json": {
       "model_id": "7bf75c7a7a324157870152018a0e7a5b",
       "version_major": 2,
       "version_minor": 0
      },
      "text/plain": [
       "Running for several times:   0%|          | 0/10 [00:00<?, ?it/s]"
      ]
     },
     "metadata": {},
     "output_type": "display_data"
    },
    {
     "data": {
      "application/vnd.jupyter.widget-view+json": {
       "model_id": "e0c1511e26654b37b140543c0b820133",
       "version_major": 2,
       "version_minor": 0
      },
      "text/plain": [
       "Running for several times:   0%|          | 0/10 [00:00<?, ?it/s]"
      ]
     },
     "metadata": {},
     "output_type": "display_data"
    },
    {
     "data": {
      "application/vnd.jupyter.widget-view+json": {
       "model_id": "ba9c0fca7b424d8387d8de0849c3a958",
       "version_major": 2,
       "version_minor": 0
      },
      "text/plain": [
       "Running for several times:   0%|          | 0/10 [00:00<?, ?it/s]"
      ]
     },
     "metadata": {},
     "output_type": "display_data"
    },
    {
     "data": {
      "application/vnd.jupyter.widget-view+json": {
       "model_id": "33222d6b12904d35a507be0a19bb8ce7",
       "version_major": 2,
       "version_minor": 0
      },
      "text/plain": [
       "Running for several times:   0%|          | 0/10 [00:00<?, ?it/s]"
      ]
     },
     "metadata": {},
     "output_type": "display_data"
    },
    {
     "data": {
      "application/vnd.jupyter.widget-view+json": {
       "model_id": "c944c2f0efe349a580a3a77c7928fcf7",
       "version_major": 2,
       "version_minor": 0
      },
      "text/plain": [
       "Running for several times:   0%|          | 0/10 [00:00<?, ?it/s]"
      ]
     },
     "metadata": {},
     "output_type": "display_data"
    },
    {
     "data": {
      "application/vnd.jupyter.widget-view+json": {
       "model_id": "1ddd5d1922bc419b8f39ff600d606508",
       "version_major": 2,
       "version_minor": 0
      },
      "text/plain": [
       "Running for several times:   0%|          | 0/10 [00:00<?, ?it/s]"
      ]
     },
     "metadata": {},
     "output_type": "display_data"
    },
    {
     "data": {
      "application/vnd.jupyter.widget-view+json": {
       "model_id": "4b96e26f5ef94c309311c2d2fc6e962c",
       "version_major": 2,
       "version_minor": 0
      },
      "text/plain": [
       "Running for several times:   0%|          | 0/10 [00:00<?, ?it/s]"
      ]
     },
     "metadata": {},
     "output_type": "display_data"
    },
    {
     "data": {
      "application/vnd.jupyter.widget-view+json": {
       "model_id": "5dac12198b174190a7e21d88f4668fef",
       "version_major": 2,
       "version_minor": 0
      },
      "text/plain": [
       "Running for several times:   0%|          | 0/10 [00:00<?, ?it/s]"
      ]
     },
     "metadata": {},
     "output_type": "display_data"
    }
   ],
   "source": [
    "with concurrent.futures.ThreadPoolExecutor(max_workers=4) as executor:\n",
    "    futures = [executor.submit(lambda: character_mess_up(dataset1)), executor.submit(lambda: character_mess_up(dataset2))]\n",
    "    concurrent.futures.wait(futures)"
   ]
  },
  {
   "cell_type": "code",
   "execution_count": 25,
   "metadata": {},
   "outputs": [],
   "source": [
    "results1 = futures[0].result()\n",
    "results2 = futures[1].result()\n",
    "\n",
    "average_entropy1 = np.mean(results1, axis=1)\n",
    "min_entropy1 = np.min(results1, axis=1)\n",
    "max_entropy1 = np.max(results1, axis=1)\n",
    "\n",
    "average_entropy2 = np.mean(results2, axis=1)\n",
    "min_entropy2 = np.min(results2, axis=1)\n",
    "max_entropy2 = np.max(results2, axis=1)"
   ]
  },
  {
   "cell_type": "code",
   "execution_count": 26,
   "metadata": {},
   "outputs": [
    {
     "data": {
      "text/markdown": [
       "# Min, average and max entropies after character mess up for TEXTEN1.txt"
      ],
      "text/plain": [
       "<IPython.core.display.Markdown object>"
      ]
     },
     "metadata": {},
     "output_type": "display_data"
    },
    {
     "data": {
      "text/html": [
       "<div>\n",
       "<style scoped>\n",
       "    .dataframe tbody tr th:only-of-type {\n",
       "        vertical-align: middle;\n",
       "    }\n",
       "\n",
       "    .dataframe tbody tr th {\n",
       "        vertical-align: top;\n",
       "    }\n",
       "\n",
       "    .dataframe thead th {\n",
       "        text-align: right;\n",
       "    }\n",
       "</style>\n",
       "<table border=\"1\" class=\"dataframe\">\n",
       "  <thead>\n",
       "    <tr style=\"text-align: right;\">\n",
       "      <th></th>\n",
       "      <th>0.10000</th>\n",
       "      <th>0.05000</th>\n",
       "      <th>0.01000</th>\n",
       "      <th>0.00100</th>\n",
       "      <th>0.00010</th>\n",
       "      <th>0.00001</th>\n",
       "    </tr>\n",
       "  </thead>\n",
       "  <tbody>\n",
       "    <tr>\n",
       "      <th>Min</th>\n",
       "      <td>4.724144</td>\n",
       "      <td>5.051145</td>\n",
       "      <td>5.249080</td>\n",
       "      <td>5.283178</td>\n",
       "      <td>5.286748</td>\n",
       "      <td>5.287305</td>\n",
       "    </tr>\n",
       "    <tr>\n",
       "      <th>Average</th>\n",
       "      <td>4.731997</td>\n",
       "      <td>5.057154</td>\n",
       "      <td>5.251069</td>\n",
       "      <td>5.283879</td>\n",
       "      <td>5.287001</td>\n",
       "      <td>5.287419</td>\n",
       "    </tr>\n",
       "    <tr>\n",
       "      <th>Max</th>\n",
       "      <td>4.737850</td>\n",
       "      <td>5.061103</td>\n",
       "      <td>5.252788</td>\n",
       "      <td>5.284460</td>\n",
       "      <td>5.287214</td>\n",
       "      <td>5.287511</td>\n",
       "    </tr>\n",
       "  </tbody>\n",
       "</table>\n",
       "</div>"
      ],
      "text/plain": [
       "          0.10000   0.05000   0.01000   0.00100   0.00010   0.00001\n",
       "Min      4.724144  5.051145  5.249080  5.283178  5.286748  5.287305\n",
       "Average  4.731997  5.057154  5.251069  5.283879  5.287001  5.287419\n",
       "Max      4.737850  5.061103  5.252788  5.284460  5.287214  5.287511"
      ]
     },
     "execution_count": 26,
     "metadata": {},
     "output_type": "execute_result"
    }
   ],
   "source": [
    "display(Markdown(f\"# Min, average and max entropies after character mess up for {TEXT_FILE1}\"))\n",
    "fr = pandas.DataFrame([min_entropy1, average_entropy1, max_entropy1], columns=LIKELIHOODS, index=[\"Min\", \"Average\", \"Max\"])\n",
    "fr"
   ]
  },
  {
   "cell_type": "code",
   "execution_count": 27,
   "metadata": {},
   "outputs": [
    {
     "data": {
      "text/markdown": [
       "# Min, average and max entropies after character mess up for TEXTCZ1.txt"
      ],
      "text/plain": [
       "<IPython.core.display.Markdown object>"
      ]
     },
     "metadata": {},
     "output_type": "display_data"
    },
    {
     "data": {
      "text/html": [
       "<div>\n",
       "<style scoped>\n",
       "    .dataframe tbody tr th:only-of-type {\n",
       "        vertical-align: middle;\n",
       "    }\n",
       "\n",
       "    .dataframe tbody tr th {\n",
       "        vertical-align: top;\n",
       "    }\n",
       "\n",
       "    .dataframe thead th {\n",
       "        text-align: right;\n",
       "    }\n",
       "</style>\n",
       "<table border=\"1\" class=\"dataframe\">\n",
       "  <thead>\n",
       "    <tr style=\"text-align: right;\">\n",
       "      <th></th>\n",
       "      <th>0.10000</th>\n",
       "      <th>0.05000</th>\n",
       "      <th>0.01000</th>\n",
       "      <th>0.00100</th>\n",
       "      <th>0.00010</th>\n",
       "      <th>0.00001</th>\n",
       "    </tr>\n",
       "  </thead>\n",
       "  <tbody>\n",
       "    <tr>\n",
       "      <th>Min</th>\n",
       "      <td>4.000284</td>\n",
       "      <td>4.333890</td>\n",
       "      <td>4.656469</td>\n",
       "      <td>4.738477</td>\n",
       "      <td>4.746668</td>\n",
       "      <td>4.74759</td>\n",
       "    </tr>\n",
       "    <tr>\n",
       "      <th>Average</th>\n",
       "      <td>4.005146</td>\n",
       "      <td>4.337664</td>\n",
       "      <td>4.658045</td>\n",
       "      <td>4.739013</td>\n",
       "      <td>4.746729</td>\n",
       "      <td>4.74759</td>\n",
       "    </tr>\n",
       "    <tr>\n",
       "      <th>Max</th>\n",
       "      <td>4.014213</td>\n",
       "      <td>4.342065</td>\n",
       "      <td>4.660728</td>\n",
       "      <td>4.739573</td>\n",
       "      <td>4.746898</td>\n",
       "      <td>4.74759</td>\n",
       "    </tr>\n",
       "  </tbody>\n",
       "</table>\n",
       "</div>"
      ],
      "text/plain": [
       "          0.10000   0.05000   0.01000   0.00100   0.00010  0.00001\n",
       "Min      4.000284  4.333890  4.656469  4.738477  4.746668  4.74759\n",
       "Average  4.005146  4.337664  4.658045  4.739013  4.746729  4.74759\n",
       "Max      4.014213  4.342065  4.660728  4.739573  4.746898  4.74759"
      ]
     },
     "execution_count": 27,
     "metadata": {},
     "output_type": "execute_result"
    }
   ],
   "source": [
    "display(Markdown(f\"# Min, average and max entropies after character mess up for {TEXT_FILE2}\"))\n",
    "fr = pandas.DataFrame([min_entropy2, average_entropy2, max_entropy2], columns=LIKELIHOODS, index=[\"Min\", \"Average\", \"Max\"])\n",
    "fr"
   ]
  },
  {
   "cell_type": "code",
   "execution_count": 28,
   "metadata": {},
   "outputs": [
    {
     "data": {
      "text/plain": [
       "<matplotlib.legend.Legend at 0x123e2253aa0>"
      ]
     },
     "execution_count": 28,
     "metadata": {},
     "output_type": "execute_result"
    },
    {
     "data": {
      "image/png": "[encoded data removed]",
      "text/plain": [
       "<Figure size 640x480 with 1 Axes>"
      ]
     },
     "metadata": {},
     "output_type": "display_data"
    }
   ],
   "source": [
    "plt.plot(LIKELIHOODS, average_entropy1)\n",
    "\n",
    "plt.title(\"Entropy for character mess up for TEXTEN1.txt\")\n",
    "plt.xlabel(\"likelihood of character mess up\")\n",
    "plt.ylabel(\"entropy\")\n",
    "plt.legend([\"Average\"])"
   ]
  },
  {
   "cell_type": "code",
   "execution_count": 29,
   "metadata": {},
   "outputs": [
    {
     "data": {
      "text/plain": [
       "<matplotlib.legend.Legend at 0x123ca67baa0>"
      ]
     },
     "execution_count": 29,
     "metadata": {},
     "output_type": "execute_result"
    },
    {
     "data": {
      "image/png": "[encoded data removed]",
      "text/plain": [
       "<Figure size 640x480 with 1 Axes>"
      ]
     },
     "metadata": {},
     "output_type": "display_data"
    }
   ],
   "source": [
    "plt.plot(LIKELIHOODS, average_entropy2)\n",
    "\n",
    "plt.title(\"Entropy for character mess up for TEXTCZ1.txt\")\n",
    "plt.xlabel(\"likelihood of character mess up\")\n",
    "plt.ylabel(\"entropy\")\n",
    "plt.legend([\"Average\"])"
   ]
  },
  {
   "cell_type": "markdown",
   "metadata": {},
   "source": [
    "The graphs suggest that increasing the likelihood of character mess up decreases the entropy. This is because the operation of messing up a character actually increases the vocabulary and therefore every word pair is more unique making it easier to predict. "
   ]
  },
  {
   "cell_type": "markdown",
   "metadata": {},
   "source": [
    "## Messing up the words"
   ]
  },
  {
   "cell_type": "code",
   "execution_count": 30,
   "metadata": {},
   "outputs": [],
   "source": [
    "LIKELIHOODS = [0.1, 0.05, 0.01, 0.001, 0.0001, 0.00001]\n",
    "RUNS = 10\n",
    "results = []"
   ]
  },
  {
   "cell_type": "code",
   "execution_count": 31,
   "metadata": {},
   "outputs": [],
   "source": [
    "def word_mess_up(dataset: Dataset):\n",
    "    results = []\n",
    "    for likelihood in tqdm(LIKELIHOODS, \"Running for different likelihoods\"):\n",
    "        results_for_run = []\n",
    "        for run in tqdm(range(RUNS), \"Running for several times\", leave=False):\n",
    "            random.seed(42)\n",
    "            word_scrambler = TextScrambler(likelihood, dataset)\n",
    "            scrambled_dataset = word_scrambler.scramble_text()\n",
    "            results_for_run.append(compute_entropy(scrambled_dataset))\n",
    "        results.append(results_for_run)\n",
    "    return results"
   ]
  },
  {
   "cell_type": "code",
   "execution_count": 32,
   "metadata": {},
   "outputs": [
    {
     "data": {
      "application/vnd.jupyter.widget-view+json": {
       "model_id": "eb27d1d13e4f4df68560605f329bcf8e",
       "version_major": 2,
       "version_minor": 0
      },
      "text/plain": [
       "Running for different likelihoods:   0%|          | 0/6 [00:00<?, ?it/s]"
      ]
     },
     "metadata": {},
     "output_type": "display_data"
    },
    {
     "data": {
      "application/vnd.jupyter.widget-view+json": {
       "model_id": "30b57e57b5ae4e308d8e133c785be26b",
       "version_major": 2,
       "version_minor": 0
      },
      "text/plain": [
       "Running for different likelihoods:   0%|          | 0/6 [00:00<?, ?it/s]"
      ]
     },
     "metadata": {},
     "output_type": "display_data"
    },
    {
     "data": {
      "application/vnd.jupyter.widget-view+json": {
       "model_id": "b3f9b28cf2664bf2b8b31db1d2eecd81",
       "version_major": 2,
       "version_minor": 0
      },
      "text/plain": [
       "Running for several times:   0%|          | 0/10 [00:00<?, ?it/s]"
      ]
     },
     "metadata": {},
     "output_type": "display_data"
    },
    {
     "data": {
      "application/vnd.jupyter.widget-view+json": {
       "model_id": "f1416a49c0d847cf8f6f48e050984ef7",
       "version_major": 2,
       "version_minor": 0
      },
      "text/plain": [
       "Running for several times:   0%|          | 0/10 [00:00<?, ?it/s]"
      ]
     },
     "metadata": {},
     "output_type": "display_data"
    },
    {
     "data": {
      "application/vnd.jupyter.widget-view+json": {
       "model_id": "d087416e80824a54ac10d8f72b6d2cc6",
       "version_major": 2,
       "version_minor": 0
      },
      "text/plain": [
       "Running for several times:   0%|          | 0/10 [00:00<?, ?it/s]"
      ]
     },
     "metadata": {},
     "output_type": "display_data"
    },
    {
     "data": {
      "application/vnd.jupyter.widget-view+json": {
       "model_id": "20c8bd56f12a4c868fdfd73f9f6bb290",
       "version_major": 2,
       "version_minor": 0
      },
      "text/plain": [
       "Running for several times:   0%|          | 0/10 [00:00<?, ?it/s]"
      ]
     },
     "metadata": {},
     "output_type": "display_data"
    },
    {
     "data": {
      "application/vnd.jupyter.widget-view+json": {
       "model_id": "93415a4d6ed8444099a15bd0eda4d5ba",
       "version_major": 2,
       "version_minor": 0
      },
      "text/plain": [
       "Running for several times:   0%|          | 0/10 [00:00<?, ?it/s]"
      ]
     },
     "metadata": {},
     "output_type": "display_data"
    },
    {
     "data": {
      "application/vnd.jupyter.widget-view+json": {
       "model_id": "a76121c75a0b485b86530afa5e93d6ed",
       "version_major": 2,
       "version_minor": 0
      },
      "text/plain": [
       "Running for several times:   0%|          | 0/10 [00:00<?, ?it/s]"
      ]
     },
     "metadata": {},
     "output_type": "display_data"
    },
    {
     "data": {
      "application/vnd.jupyter.widget-view+json": {
       "model_id": "32bc4ae670c2444facbc6fe45f0ceb6e",
       "version_major": 2,
       "version_minor": 0
      },
      "text/plain": [
       "Running for several times:   0%|          | 0/10 [00:00<?, ?it/s]"
      ]
     },
     "metadata": {},
     "output_type": "display_data"
    },
    {
     "data": {
      "application/vnd.jupyter.widget-view+json": {
       "model_id": "bebe881240e145988a3d14f2c9499a6d",
       "version_major": 2,
       "version_minor": 0
      },
      "text/plain": [
       "Running for several times:   0%|          | 0/10 [00:00<?, ?it/s]"
      ]
     },
     "metadata": {},
     "output_type": "display_data"
    },
    {
     "data": {
      "application/vnd.jupyter.widget-view+json": {
       "model_id": "df6b6cad81bc46d6bea19671554e0140",
       "version_major": 2,
       "version_minor": 0
      },
      "text/plain": [
       "Running for several times:   0%|          | 0/10 [00:00<?, ?it/s]"
      ]
     },
     "metadata": {},
     "output_type": "display_data"
    },
    {
     "data": {
      "application/vnd.jupyter.widget-view+json": {
       "model_id": "2acbe6268b2c44aaa7f49a52ae9034e0",
       "version_major": 2,
       "version_minor": 0
      },
      "text/plain": [
       "Running for several times:   0%|          | 0/10 [00:00<?, ?it/s]"
      ]
     },
     "metadata": {},
     "output_type": "display_data"
    },
    {
     "data": {
      "application/vnd.jupyter.widget-view+json": {
       "model_id": "61c490da7c1243d1a9c870c99b0089a3",
       "version_major": 2,
       "version_minor": 0
      },
      "text/plain": [
       "Running for several times:   0%|          | 0/10 [00:00<?, ?it/s]"
      ]
     },
     "metadata": {},
     "output_type": "display_data"
    },
    {
     "data": {
      "application/vnd.jupyter.widget-view+json": {
       "model_id": "8d55f7e49e6947f89985650829ca3e25",
       "version_major": 2,
       "version_minor": 0
      },
      "text/plain": [
       "Running for several times:   0%|          | 0/10 [00:00<?, ?it/s]"
      ]
     },
     "metadata": {},
     "output_type": "display_data"
    }
   ],
   "source": [
    "with concurrent.futures.ThreadPoolExecutor(max_workers=4) as executor:\n",
    "    futures = [executor.submit(lambda: word_mess_up(dataset1)), executor.submit(lambda: word_mess_up(dataset2))]\n",
    "    concurrent.futures.wait(futures)"
   ]
  },
  {
   "cell_type": "code",
   "execution_count": 33,
   "metadata": {},
   "outputs": [],
   "source": [
    "results1 = futures[0].result()\n",
    "results2 = futures[1].result()\n",
    "\n",
    "average_entropy1 = np.mean(results1, axis=1)\n",
    "min_entropy1 = np.min(results1, axis=1)\n",
    "max_entropy1 = np.max(results1, axis=1)\n",
    "\n",
    "average_entropy2 = np.mean(results2, axis=1)\n",
    "min_entropy2 = np.min(results2, axis=1)\n",
    "max_entropy2 = np.max(results2, axis=1)"
   ]
  },
  {
   "cell_type": "code",
   "execution_count": 34,
   "metadata": {},
   "outputs": [
    {
     "data": {
      "text/markdown": [
       "# Min, average and max entropies after word mess up for TEXTEN1.txt"
      ],
      "text/plain": [
       "<IPython.core.display.Markdown object>"
      ]
     },
     "metadata": {},
     "output_type": "display_data"
    },
    {
     "data": {
      "text/html": [
       "<div>\n",
       "<style scoped>\n",
       "    .dataframe tbody tr th:only-of-type {\n",
       "        vertical-align: middle;\n",
       "    }\n",
       "\n",
       "    .dataframe tbody tr th {\n",
       "        vertical-align: top;\n",
       "    }\n",
       "\n",
       "    .dataframe thead th {\n",
       "        text-align: right;\n",
       "    }\n",
       "</style>\n",
       "<table border=\"1\" class=\"dataframe\">\n",
       "  <thead>\n",
       "    <tr style=\"text-align: right;\">\n",
       "      <th></th>\n",
       "      <th>0.10000</th>\n",
       "      <th>0.05000</th>\n",
       "      <th>0.01000</th>\n",
       "      <th>0.00100</th>\n",
       "      <th>0.00010</th>\n",
       "      <th>0.00001</th>\n",
       "    </tr>\n",
       "  </thead>\n",
       "  <tbody>\n",
       "    <tr>\n",
       "      <th>Min</th>\n",
       "      <td>5.455261</td>\n",
       "      <td>5.376520</td>\n",
       "      <td>5.306435</td>\n",
       "      <td>5.289017</td>\n",
       "      <td>5.287505</td>\n",
       "      <td>5.287387</td>\n",
       "    </tr>\n",
       "    <tr>\n",
       "      <th>Average</th>\n",
       "      <td>5.458372</td>\n",
       "      <td>5.379342</td>\n",
       "      <td>5.307452</td>\n",
       "      <td>5.289211</td>\n",
       "      <td>5.287678</td>\n",
       "      <td>5.287455</td>\n",
       "    </tr>\n",
       "    <tr>\n",
       "      <th>Max</th>\n",
       "      <td>5.462088</td>\n",
       "      <td>5.382326</td>\n",
       "      <td>5.309006</td>\n",
       "      <td>5.289687</td>\n",
       "      <td>5.287820</td>\n",
       "      <td>5.287486</td>\n",
       "    </tr>\n",
       "  </tbody>\n",
       "</table>\n",
       "</div>"
      ],
      "text/plain": [
       "          0.10000   0.05000   0.01000   0.00100   0.00010   0.00001\n",
       "Min      5.455261  5.376520  5.306435  5.289017  5.287505  5.287387\n",
       "Average  5.458372  5.379342  5.307452  5.289211  5.287678  5.287455\n",
       "Max      5.462088  5.382326  5.309006  5.289687  5.287820  5.287486"
      ]
     },
     "execution_count": 34,
     "metadata": {},
     "output_type": "execute_result"
    }
   ],
   "source": [
    "display(Markdown(f\"# Min, average and max entropies after word mess up for {TEXT_FILE1}\"))\n",
    "fr = pandas.DataFrame([min_entropy1, average_entropy1, max_entropy1], columns=LIKELIHOODS, index=[\"Min\", \"Average\", \"Max\"])\n",
    "fr"
   ]
  },
  {
   "cell_type": "code",
   "execution_count": 35,
   "metadata": {},
   "outputs": [
    {
     "data": {
      "text/markdown": [
       "# Min, average and max entropies after word mess up for TEXTCZ1.txt"
      ],
      "text/plain": [
       "<IPython.core.display.Markdown object>"
      ]
     },
     "metadata": {},
     "output_type": "display_data"
    },
    {
     "data": {
      "text/html": [
       "<div>\n",
       "<style scoped>\n",
       "    .dataframe tbody tr th:only-of-type {\n",
       "        vertical-align: middle;\n",
       "    }\n",
       "\n",
       "    .dataframe tbody tr th {\n",
       "        vertical-align: top;\n",
       "    }\n",
       "\n",
       "    .dataframe thead th {\n",
       "        text-align: right;\n",
       "    }\n",
       "</style>\n",
       "<table border=\"1\" class=\"dataframe\">\n",
       "  <thead>\n",
       "    <tr style=\"text-align: right;\">\n",
       "      <th></th>\n",
       "      <th>0.10000</th>\n",
       "      <th>0.05000</th>\n",
       "      <th>0.01000</th>\n",
       "      <th>0.00100</th>\n",
       "      <th>0.00010</th>\n",
       "      <th>0.00001</th>\n",
       "    </tr>\n",
       "  </thead>\n",
       "  <tbody>\n",
       "    <tr>\n",
       "      <th>Min</th>\n",
       "      <td>4.633055</td>\n",
       "      <td>4.699418</td>\n",
       "      <td>4.738770</td>\n",
       "      <td>4.746785</td>\n",
       "      <td>4.747515</td>\n",
       "      <td>4.747777</td>\n",
       "    </tr>\n",
       "    <tr>\n",
       "      <th>Average</th>\n",
       "      <td>4.638738</td>\n",
       "      <td>4.701520</td>\n",
       "      <td>4.740201</td>\n",
       "      <td>4.747328</td>\n",
       "      <td>4.747705</td>\n",
       "      <td>4.747777</td>\n",
       "    </tr>\n",
       "    <tr>\n",
       "      <th>Max</th>\n",
       "      <td>4.644391</td>\n",
       "      <td>4.704648</td>\n",
       "      <td>4.741803</td>\n",
       "      <td>4.747763</td>\n",
       "      <td>4.747813</td>\n",
       "      <td>4.747777</td>\n",
       "    </tr>\n",
       "  </tbody>\n",
       "</table>\n",
       "</div>"
      ],
      "text/plain": [
       "          0.10000   0.05000   0.01000   0.00100   0.00010   0.00001\n",
       "Min      4.633055  4.699418  4.738770  4.746785  4.747515  4.747777\n",
       "Average  4.638738  4.701520  4.740201  4.747328  4.747705  4.747777\n",
       "Max      4.644391  4.704648  4.741803  4.747763  4.747813  4.747777"
      ]
     },
     "execution_count": 35,
     "metadata": {},
     "output_type": "execute_result"
    }
   ],
   "source": [
    "display(Markdown(f\"# Min, average and max entropies after word mess up for {TEXT_FILE2}\"))\n",
    "fr = pandas.DataFrame([min_entropy2, average_entropy2, max_entropy2], columns=LIKELIHOODS, index=[\"Min\", \"Average\", \"Max\"])\n",
    "fr"
   ]
  },
  {
   "cell_type": "code",
   "execution_count": 36,
   "metadata": {},
   "outputs": [
    {
     "data": {
      "text/plain": [
       "<matplotlib.legend.Legend at 0x123d9438e30>"
      ]
     },
     "execution_count": 36,
     "metadata": {},
     "output_type": "execute_result"
    },
    {
     "data": {
      "image/png": "[encoded data removed]",
      "text/plain": [
       "<Figure size 640x480 with 1 Axes>"
      ]
     },
     "metadata": {},
     "output_type": "display_data"
    }
   ],
   "source": [
    "plt.plot(LIKELIHOODS, average_entropy1)\n",
    "\n",
    "plt.title(\"Entropy for word mess up for TEXTEN1.txt\")\n",
    "plt.xlabel(\"likelihood of character mess up\")\n",
    "plt.ylabel(\"entropy\")\n",
    "plt.legend([\"Average\"])"
   ]
  },
  {
   "cell_type": "code",
   "execution_count": 37,
   "metadata": {},
   "outputs": [
    {
     "data": {
      "text/plain": [
       "<matplotlib.legend.Legend at 0x123dcb8c230>"
      ]
     },
     "execution_count": 37,
     "metadata": {},
     "output_type": "execute_result"
    },
    {
     "data": {
      "image/png": "[encoded data removed]",
      "text/plain": [
       "<Figure size 640x480 with 1 Axes>"
      ]
     },
     "metadata": {},
     "output_type": "display_data"
    }
   ],
   "source": [
    "plt.plot(LIKELIHOODS, average_entropy2)\n",
    "\n",
    "plt.title(\"Entropy for word mess up for TEXTCZ1.txt\")\n",
    "plt.xlabel(\"likelihood of character mess up\")\n",
    "plt.ylabel(\"entropy\")\n",
    "plt.legend([\"Average\"])"
   ]
  },
  {
   "cell_type": "markdown",
   "metadata": {},
   "source": [
    "In word mess up we find that for TEXTEN1.txt with increasing likelihood of word mess up the entropy also increases but in the case of TEXTCZ1.txt the entropy decreases. In this case the operation of word mess up does not increase the vocabulary but potentially it can decrease the size of vocabulary. It also makes word pairs less ambiguous because by messing up a word and mapping it to a word that is present in the text we increase its frequence making it harder to predict. This is especially case for English text which has small vocabulary and small proportion of less frequent words so during the mess up process a word with higher frequency is more likely to be selected, increasing its frequency even more and therefore making it harder to predict which increases the entropy. In the case of Czech, the vocabulary is bigger and the proportion of less frequent words is much higher. Therefore, the probability of picking a less frequent word for word mess up is much higher and this way we can switch a very frequent word during for a much less frequent word making the word pair easier to predict and, therefore, decreasing the entropy."
   ]
  }
 ],
 "metadata": {
  "kernelspec": {
   "display_name": "statistical_methods",
   "language": "python",
   "name": "python3"
  },
  "language_info": {
   "codemirror_mode": {
    "name": "ipython",
    "version": 3
   },
   "file_extension": ".py",
   "mimetype": "text/x-python",
   "name": "python",
   "nbconvert_exporter": "python",
   "pygments_lexer": "ipython3",
   "version": "3.12.7"
  }
 },
 "nbformat": 4,
 "nbformat_minor": 2
}
